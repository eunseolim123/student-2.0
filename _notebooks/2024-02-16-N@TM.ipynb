{
 "cells": [
  {
   "cell_type": "markdown",
   "metadata": {},
   "source": [
    "# N@TM Reflection"
   ]
  },
  {
   "cell_type": "markdown",
   "metadata": {},
   "source": [
    "## Glows/Grows\n",
    "\n",
    "### Glows\n",
    "- Our project was running\n",
    "- Demo went smoothly\n",
    "- Site was visually appealing\n",
    "\n",
    "### Grows\n",
    "- Quiz feature wasn't giving recommendations\n",
    "- College list wasn't saving data\n",
    "- Login page wasn't saving new users"
   ]
  },
  {
   "cell_type": "markdown",
   "metadata": {},
   "source": [
    "## Additions Based on Feedback\n",
    "\n",
    "We plan to fix the quiz feature to give personalized recommendations to different users. Additionally, the college list will stay saved with how the user sorts the colleges they are interested in. Lastly, we plan to fix the login page so new users can sign up and log in and their data would save across different devices."
   ]
  },
  {
   "cell_type": "markdown",
   "metadata": {},
   "source": [
    "## Visuals/Pictures\n",
    "\n",
    "![N@TM 1](../images/N@TM1.JPG)\n",
    "![N@TM 2](../images/N@TM2.JPG)"
   ]
  },
  {
   "cell_type": "markdown",
   "metadata": {},
   "source": [
    "## Other\n",
    "\n",
    "### Something I saw In Comp Sci\n",
    "I saw another team that used an AI ChatBox and the user could ask any questions related to their program topic. I thought it was really interesting and a cool way for user interaction with the program!\n",
    "\n",
    "### Something I saw Outside of Comp Sci\n",
    "I saw a couple ceramic pieces and they were super cute! I didn't take any pictures but my favorite was the cup with the seashell on it."
   ]
  }
 ],
 "metadata": {
  "language_info": {
   "name": "python"
  }
 },
 "nbformat": 4,
 "nbformat_minor": 2
}
