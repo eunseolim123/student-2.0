{
 "cells": [
  {
   "cell_type": "markdown",
   "metadata": {},
   "source": [
    "---\n",
    "toc: true\n",
    "comments: true\n",
    "layout: post\n",
    "title: 2020 CollegeBoard Practice MC Blog\n",
    "courses: { compsci: {week: 17} }\n",
    "type: hacks\n",
    "---"
   ]
  },
  {
   "cell_type": "markdown",
   "metadata": {},
   "source": [
    "# College Board 2020 Practice MCQ\n",
    "Plan: Do 22/23 questions in each sitting (total of 3 times)\n",
    "- Keep track of all questions I had to search up here on VSCode and take notes on topics I struggle with\n",
    "- Do all quiz corrections on here too\n",
    "- Watch corresponding College Board videos for topics I struggle with\n",
    "\n",
    "## Corrections\n",
    "\n",
    "### <b>Question 11 (Skill 2.B):</b>\n",
    "A color in a computing application is represented by an RGB triplet that describes the amount of red, green, and blue, respectively, used to create the desired color. A selection of colors and their corresponding RGB triplets are shown in the following table. Each value is represented in decimal (base 10). According to information in the table, what color is represented by the binary RGB triplet (11111111, 11111111, 11110000)?\n",
    "  - Answer I Picked: B - Light Yellow\n",
    "  - Correct Answer: A - Ivory\n",
    "  - Explanation: 11111111 is 255 in binary, 11110000 is 240 in binary, ivory is (255,255,240) according to the table.\n",
    "  \n",
    "### <b>Question 22 (Skill 2.B):</b>\n",
    "Consider the following spinner, which is used to determine how pieces are to be moved on a game board. The region labeled \"Move 1 space\" is six times as large as each of the other two regions. Which of the following code segments can be used to simulate the behavior of the spinner?\n",
    "  - Answer I Picked: B\n",
    "  - Correct Answer: D\n",
    "  - Explanation:  For this spinner, there is a 1/8 chance of \"Lose a turn\", a 1/8 chance of \"Move 2 spaces\", and a 6/8 chance of \"Move 1 space\". The variable spin is set to a random value between 1 and 8. If spin is 1 (which occurs 1/8 of the time), the code segment prints \"Lose a turn\". If spin is 2 (which occurs 1/8 of the time), the code segment prints \"Move 2 spaces\". The remaining 6/8 of the time, the code segment prints \"Move 1 space\".\n",
    "  \n",
    "### <b>Question 23 (Skill 1.D):</b>\n",
    "A flowchart is a way to visually represent an algorithm. The flowchart below is used by an application to set the Boolean variable available to true under certain conditions. The flowchart uses the Boolean variable weekday and the integer variable miles. Which of the following statements is equivalent to the algorithm in the flowchart?\n",
    "  - Answer I Picked: B\n",
    "  - Correct Answer: D\n",
    "  - Explanation: The flowchart sets available to true whenever weekday is true and miles is less than 20, and sets available to false otherwise. This code statement provides the same functionality. Answer B is incorrect because this expression would be equivalent to an algorithm that sets available to true whenever weekday is true and miles is at least 20. The algorithm in the flowchart requires both conditions to be true in order to set available to true.\n",
    "  \n",
    "### <b>Question 34 (Skill 3.B):</b>\n",
    "The following question uses a robot in a grid of squares. The robot is represented by a triangle, which is initially facing toward the top of the grid. Consider the procedure below. Which of the following code segments will move the robot to the gray square along the path indicated by the arrows?\n",
    "  - Answer I Picked: B\n",
    "  - Correct answer: C\n",
    "  - Explanation: This code makes the BotMover move forward once, rotate right, and move forward once. Then it moves the BotMover forward once, rotates it right 3 times, and moves it forward once again. Finally, it makes the BotMover move forward once, does not rotate it, and moves it forward once more into the gray square. Answer B is incorrect because in this code segment, the first call to BotMover moves the robot forward one square, rotates it right one time so that it faces right, and moves it forward one square. The second call to BotMover moves the robot forward one square, rotates it right 2 times so that it faces left , then moves it forward one square. The third call to BotMover moves the robot forward one square, rotates it right 3 times so that it faces the bottom of the grid, then moves it forward one square back to where it started.\n",
    "  \n",
    "### <b>Question 45 (Skill 2.B):</b>\n",
    "Consider a game in which a player flips a fair coin three times. If all three coin flips have the same result (either all heads or all tails) the player wins. Otherwise, the player loses. Which of the following code segments best simulates the behavior of the game?\n",
    "  - Answer I Picked: B\n",
    "  - Correct Answer: D\n",
    "  - Explanation: In this code segment, three coin flips are simulated, where one result is represented by 1 and the other result is represented by 0. The player wins when the sum of these is 0 or 3, indicating all heads or all tails. Answer B is incorrect because in this code segment, the variable flip is assigned one of four values: 0, 1, 2, or 3. The player wins approximately two out of every four times (when flip is 0 or 3).\n",
    "\n",
    "### Final Score: 62/67"
   ]
  },
  {
   "cell_type": "markdown",
   "metadata": {},
   "source": [
    "## Reflection\n",
    "\n",
    "This CollegeBoard MC was definitely easier than the last one since I learned much of the material from the team teaches in class. Adding on to my knowledge from last trimester, this trimester helped me learn a lot more of the CollegeBoard material and do a deep dive into the specific topics. Completing the homework assignments helped me review the material in depth and reflect on my understanding. I also watched CollegeBoard videos relating to any topics I was confused on. While taking this MC I learned more about RGB values, code segments that simulate certain games or situations, and additional vocabulary terms."
   ]
  }
 ],
 "metadata": {
  "language_info": {
   "name": "python"
  }
 },
 "nbformat": 4,
 "nbformat_minor": 2
}
