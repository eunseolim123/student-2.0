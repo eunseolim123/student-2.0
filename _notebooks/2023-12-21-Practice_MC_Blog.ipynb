{
 "cells": [
  {
   "cell_type": "markdown",
   "metadata": {},
   "source": [
    "---\n",
    "toc: true\n",
    "comments: true\n",
    "layout: post\n",
    "title: 2020 CollegeBoard Practice MC Blog\n",
    "courses: { compsci: {week: 17} }\n",
    "type: hacks\n",
    "---"
   ]
  },
  {
   "cell_type": "markdown",
   "metadata": {},
   "source": [
    "## College Board 2020 Practice MCQ\n",
    "Plan: Do 22/23 questions in each sitting (total of 3 times)\n",
    "- Keep track of all questions I had to search up here on VSCode and take notes on topics I struggle with\n",
    "- Do all quiz corrections on here too\n",
    "- Watch corresponding College Board videos for topics I struggle with\n",
    "\n",
    "### Corrections\n",
    "\n",
    "- <b>Question 11 (Skill 2.B): According to information in the table, what color is represented by the binary RGB triplet (11111111, 11111111, 11110000)?</b>\n",
    "  - Answer: A, I picked B\n",
    "  - Explanation: 11111111 is 255 in binary, 11110000 is 240 in binary, ivory is (255,255,240) according to the table.\n",
    "- <b>Question 22 (Skill 2.B): Which of the following code segments can be used to simulate the behavior of the spinner?</b>\n",
    "  - Answer: D, I picked B\n",
    "  - Explanation:  For this spinner, there is a 1/8 chance of \"Lose a turn\", a 1/8 chance of \"Move 2 spaces\", and a 6/8 chance of \"Move 1 space\".\n",
    "- <b>Question 23 (Skill 1.D): Which of the following statements is equivalent to the algorithm in the flowchart?</b>\n",
    "  - Answer: D, I picked B\n",
    "  - Explanation: The flowchart sets available to true whenever weekday is true and miles is less than 20, and sets available to false otherwise. This code statement provides the same functionality.\n",
    "- <b>Question 34 (Skill 3.B): Which of the following code segments will move the robot to the gray square along the path indicated by the arrows?</b>\n",
    "  - Answer: C, I picked B\n",
    "  - Explanation: This code makes the BotMover move forward once, rotate right, and move forward once. Then it moves the BotMover forward once, rotates it right 3 times, and moves it forward once again. Finally, it makes the BotMover move forward once, does not rotate it, and moves it forward once mroe into the gray square.\n",
    "- <b>Question 45 (Skill 2.B): Which of the following code segments best simulates the behavior of the game?</b>\n",
    "  - Answer: D, I picked B\n",
    "  - Explanation: In this code segment, three coin flips are simulated, where one result is represented by 1 and the other result is represented by 0. The player wins when the sum of these is 0 or 3, indicating all heads or all tails.\n",
    "\n",
    "- Final Score: 62/67"
   ]
  }
 ],
 "metadata": {
  "language_info": {
   "name": "python"
  }
 },
 "nbformat": 4,
 "nbformat_minor": 2
}
