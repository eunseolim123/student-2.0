{
 "cells": [
  {
   "cell_type": "markdown",
   "metadata": {},
   "source": [
    "---\n",
    "toc: true\n",
    "comments: true\n",
    "layout: post\n",
    "title: 2021 CollegeBoard Practice MC Corrections\n",
    "courses: { compsci: {week: 20} }\n",
    "type: hacks\n",
    "---"
   ]
  },
  {
   "cell_type": "markdown",
   "metadata": {},
   "source": [
    "# 2021 CollegeBoard Practice MC Corrections & Reflection\n",
    "\n",
    "### Overall score: 64/70"
   ]
  },
  {
   "cell_type": "markdown",
   "metadata": {},
   "source": [
    "<mark>Question 9: Digital representation of audio signal</mark>\n",
    "- <b>Which of the following best explains how an analog audio signal is typically represented by a computer?</b>\n",
    "- Answer I put: An analog audio signal is measured as a sequence of operations that describe how the sound can be reproduced. The operations are represented at the lowest level as programming instructions.\n",
    "- Correct Answer: An analog audio signal is measured at regular intervals. Each measurement is stored as a sample, which is represented at the lowest level as a sequence of bits.\n",
    "- Explanation: While some programming languages can be used to manipulate audio data, this is not how audio data are represented digitally. At the lowest level, all digital data are represented as sequences of bits. Analog signals are sampled digitally at discrete intervals over time. These samples, like all digital data, are represented at the lowest level as a sequence of bits."
   ]
  },
  {
   "cell_type": "markdown",
   "metadata": {},
   "source": [
    "<mark>Question 24: Lossy compression scenario</mark>\n",
    "- <b>In which of the following situations would it be most appropriate to choose lossy compression over lossless compression?</b>\n",
    "- Answer I put: Storing a video file on an external device in order to preserve the highest possible video quality\n",
    "- Correct Answer: Storing music files on a smartphone in order to maximize the number of songs that can be stored\n",
    "- Explanation:  In situations where quality is maximally important, lossless compression algorithms are typically chosen. In situations where minimizing data size or transmission time is maximally important, lossy compression algorithms are typically chosen."
   ]
  },
  {
   "cell_type": "markdown",
   "metadata": {},
   "source": [
    "<mark>Question 33: Efficiency of driving route algorithms</mark>\n",
    "- A company delivers packages by truck and would like to minimize the length of the route that each driver must travel in order to reach delivery locations. The company is considering two different algorithms for determining delivery routes.\n",
    "\n",
    "- Algorithm I:\n",
    "Generate all possible routes, compute their lengths, and then select the shortest possible route. This algorithm does not run in reasonable time.\n",
    "- Algorithm II:\n",
    "Starting from an arbitrary delivery location, find the nearest unvisited delivery location. Continue creating the route by selecting the nearest unvisited location until all locations have been visited. This algorithm does not guarantee the shortest possible route and runs in time proportional to n squared.\n",
    "\n",
    "- <b>Which of the following best categorizes algorithm II?</b>\n",
    "- Answer I put: Algorithm II provides no improvement over algorithm I because neither algorithm runs in reasonable time.\n",
    "- Correct Answer: Algorithm II uses a heuristic approach to provide an approximate solution in reasonable time.\n",
    "- Explanation: Heuristic means proceeding to a solution by trial and error or by rules that are only loosely defined. Algorithm II runs in time proportional to n squared, which is considered reasonable time because n squared is a polynomial. Algorithm II runs in time proportional to n squared, which is considered reasonable time because n squared is a polynomial. This is considered a heuristic approach because it finds an approximate solution in reasonable time when the technique that finds an exact solution (algorithm I) does not run in reasonable time."
   ]
  },
  {
   "cell_type": "markdown",
   "metadata": {},
   "source": [
    "<mark>Question 43: Keylogging example</mark>\n",
    "- <b>Which of the following best exemplifies the use of keylogging to gain unauthorized access to a computer system?</b>\n",
    "- Answer I put: A user logs into an unsecure Web site. Someone else is able to view unencrypted log-in information as it is transmitted over the Internet. The user has the same username and password for multiple accounts, so the user’s log-in information for multiple systems may be compromised.\n",
    "- Correct Answer: A user unintentionally installs a program on their computer that records all user input and forwards it to another computer. A few weeks later, someone else is able to access the user’s computer using the recorded data.\n",
    "- Explanation: Keylogging is the use of a program to record every keystroke made by a computer to gain fraudulent access to passwords and other confidential information."
   ]
  },
  {
   "cell_type": "markdown",
   "metadata": {},
   "source": [
    "<mark>Question 55: Move element from end of list to beginning</mark>\n",
    "- A code segment is intended to transform the list utensils so that the last element of the list is moved to the beginning of the list.\n",
    "\n",
    "- For example, if utensils initially contains  [\"fork\", \"spoon\", \"tongs\", \"spatula\", \"whisk\"], it should contain [\"whisk\", \"fork\", \"spoon\", \"tongs\", \"spatula\"] after executing the code segment.\n",
    "\n",
    "- <b>Which of the following code segments transforms the list as intended?</b>\n",
    "- Answer I put: ![]({{ site.baseurl }}/images/selected.png \"Selected Answer\")\n",
    "- Correct Answer: ![]({{ site.baseurl }}/images/correct.png \"Correct Answer\")\n",
    "- Explanation: This code segment assigns the value of the last element of the list to the variable temp, then removes the last element of the list, then inserts temp as the first element of the list."
   ]
  },
  {
   "cell_type": "markdown",
   "metadata": {},
   "source": [
    "<mark>Question 64: Error in ageGroup procedure</mark>\n",
    "- In the following procedure, the parameter age represents a person’s age. The procedure is intended to return the name of the age group associated with age. People who are under 18 are considered minors, people who are 65 and older are considered senior citizens, and all other people are considered adults. The procedure does not work as intended.\n",
    "- ![]({{ site.baseurl }}/images/q64.png \"Question 64\")\n",
    "- Removing which two lines of code will cause the procedure to work as intended?\n",
    "- Answer I put: A - Line 3, C - Line 10\n",
    "- Correct Answer: B - Line 8, C - Line 10\n",
    "- Explanation: Line 8 should be removed. This return statement causes execution of the procedure to end early. As a result, if age is less than 18, result will never be assigned the value \"minor\". Line 10 should be removed. This statement causes result to be assigned the value \"adult\", even if it should have been assigned the value \"senior citizen\"."
   ]
  },
  {
   "cell_type": "markdown",
   "metadata": {},
   "source": [
    "## Popcorn Hacks From Frequently Missed Questions\n",
    "\n",
    "4, 5, 11, 50, 56, 64, 65"
   ]
  },
  {
   "cell_type": "markdown",
   "metadata": {},
   "source": [
    "## Q4: Cause of Overflow Error (1D, binary math)\n",
    "\n",
    "### as a popcorn hack (binary challenge), describe an overflow in 8 binary digits\n",
    "Overflowing occurs when a calculation results in a value that exceeds the maximum representable value in the given number of bits (in this case 8-bits).\n",
    "### Add 1 to 11111111 (255)\n",
    "11111111 + 1 = 1000000000, truncates to 00000000 (0 in decimal)\n",
    "This is an overflow situation where the result exceeds the maximum representable value and wraps around to 0.\n",
    "### Subtract 1 from 00000000 (0)\n",
    "00000000 - 1 = 11111111, truncates to 11111111 (255 in decimal)\n",
    "This is an underflow situation where the result is smaller than the minimum representable value and wraps around to the maximum representable value."
   ]
  },
  {
   "cell_type": "markdown",
   "metadata": {},
   "source": [
    "## Q5: Inputs to Logic Circuit (2D, binary logic)\n",
    "\n",
    "### as a popcorn hack (coding challenge), create multiple new circuits and gates\n",
    "### NOT, NAND, NOR, XOR, XNOR\n",
    "### Create a hypothetical circuit, such as burglar alarm, decision tree for autonomous car, etc."
   ]
  },
  {
   "cell_type": "code",
   "execution_count": 9,
   "metadata": {},
   "outputs": [
    {
     "name": "stdout",
     "output_type": "stream",
     "text": [
      "Alarm Status: True\n"
     ]
    }
   ],
   "source": [
    "# Define logic gates\n",
    "def NOT(A):\n",
    "    return not A\n",
    "\n",
    "def NAND(A, B):\n",
    "    return not (A and B)\n",
    "\n",
    "def NOR(A, B):\n",
    "    return not (A or B)\n",
    "\n",
    "def XOR(A, B):\n",
    "    return (A or B) and not (A and B)\n",
    "\n",
    "def XNOR(A, B):\n",
    "    return not ((A or B) and not (A and B))\n",
    "\n",
    "# Burglar alarm circuit\n",
    "def burglar_alarm(sensor1, sensor2):\n",
    "    # Control unit\n",
    "    control_unit_output = NOR(sensor1, sensor2)\n",
    "    \n",
    "    # Alarm\n",
    "    alarm_output = NOT(control_unit_output)\n",
    "    \n",
    "    return alarm_output\n",
    "\n",
    "# Simulate burglar alarm activation\n",
    "sensor1_status = True  # Sensor 1 triggered\n",
    "sensor2_status = False  # Sensor 2 not triggered\n",
    "\n",
    "alarm_status = burglar_alarm(sensor1_status, sensor2_status)\n",
    "print(\"Alarm Status:\", alarm_status)  # Should trigger the alarm (True)"
   ]
  },
  {
   "cell_type": "markdown",
   "metadata": {},
   "source": [
    "## Q11: Color Represented by Binary Triplet (2D, binary)\n",
    "\n",
    "### as a hack (binary challenge), make the rgb standard colors\n",
    "Standard RGB colors:\n",
    "- Red: RGB(255, 0, 0)\n",
    "- Green: RGB(0, 255, 0)\n",
    "- Blue: RGB(0, 0, 255)\n",
    "- Yellow: RGB(255, 255, 0)\n",
    "- Cyan: RGB(0, 255, 255)\n",
    "- Magenta: RGB(255, 0, 255)\n",
    "- White: RGB(255, 255, 255)\n",
    "- Black: RGB(0, 0, 0)\n",
    "#### as a 2nd hack, make your favorite color pattern "
   ]
  },
  {
   "cell_type": "code",
   "execution_count": 8,
   "metadata": {},
   "outputs": [
    {
     "name": "stdout",
     "output_type": "stream",
     "text": [
      "Step 0: RGB(0, 0, 255)\n",
      "Step 1: RGB(0, 5, 250)\n",
      "Step 2: RGB(0, 10, 245)\n",
      "Step 3: RGB(0, 15, 240)\n",
      "Step 4: RGB(0, 20, 235)\n",
      "Step 5: RGB(0, 25, 230)\n",
      "Step 6: RGB(0, 30, 225)\n",
      "Step 7: RGB(0, 35, 220)\n",
      "Step 8: RGB(0, 40, 215)\n",
      "Step 9: RGB(0, 45, 210)\n",
      "Step 10: RGB(0, 51, 204)\n",
      "Step 11: RGB(0, 56, 199)\n",
      "Step 12: RGB(0, 61, 194)\n",
      "Step 13: RGB(0, 66, 189)\n",
      "Step 14: RGB(0, 71, 184)\n",
      "Step 15: RGB(0, 76, 179)\n",
      "Step 16: RGB(0, 81, 174)\n",
      "Step 17: RGB(0, 86, 169)\n",
      "Step 18: RGB(0, 91, 164)\n",
      "Step 19: RGB(0, 96, 159)\n",
      "Step 20: RGB(0, 102, 153)\n",
      "Step 21: RGB(0, 107, 148)\n",
      "Step 22: RGB(0, 112, 143)\n",
      "Step 23: RGB(0, 117, 138)\n",
      "Step 24: RGB(0, 122, 133)\n",
      "Step 25: RGB(0, 127, 128)\n",
      "Step 26: RGB(0, 132, 123)\n",
      "Step 27: RGB(0, 137, 118)\n",
      "Step 28: RGB(0, 142, 113)\n",
      "Step 29: RGB(0, 147, 108)\n",
      "Step 30: RGB(0, 153, 102)\n",
      "Step 31: RGB(0, 158, 97)\n",
      "Step 32: RGB(0, 163, 92)\n",
      "Step 33: RGB(0, 168, 87)\n",
      "Step 34: RGB(0, 173, 82)\n",
      "Step 35: RGB(0, 178, 77)\n",
      "Step 36: RGB(0, 183, 72)\n",
      "Step 37: RGB(0, 188, 67)\n",
      "Step 38: RGB(0, 193, 62)\n",
      "Step 39: RGB(0, 198, 57)\n",
      "Step 40: RGB(0, 204, 51)\n",
      "Step 41: RGB(0, 209, 46)\n",
      "Step 42: RGB(0, 214, 41)\n",
      "Step 43: RGB(0, 219, 36)\n",
      "Step 44: RGB(0, 224, 31)\n",
      "Step 45: RGB(0, 229, 26)\n",
      "Step 46: RGB(0, 234, 21)\n",
      "Step 47: RGB(0, 239, 16)\n",
      "Step 48: RGB(0, 244, 11)\n",
      "Step 49: RGB(0, 249, 6)\n",
      "Step 50: RGB(0, 255, 0)\n",
      "Step 51: RGB(5, 255, 0)\n",
      "Step 52: RGB(10, 255, 0)\n",
      "Step 53: RGB(15, 255, 0)\n",
      "Step 54: RGB(20, 255, 0)\n",
      "Step 55: RGB(25, 255, 0)\n",
      "Step 56: RGB(30, 255, 0)\n",
      "Step 57: RGB(35, 255, 0)\n",
      "Step 58: RGB(40, 255, 0)\n",
      "Step 59: RGB(45, 255, 0)\n",
      "Step 60: RGB(51, 255, 0)\n",
      "Step 61: RGB(56, 255, 0)\n",
      "Step 62: RGB(61, 255, 0)\n",
      "Step 63: RGB(66, 255, 0)\n",
      "Step 64: RGB(71, 255, 0)\n",
      "Step 65: RGB(76, 255, 0)\n",
      "Step 66: RGB(81, 255, 0)\n",
      "Step 67: RGB(86, 255, 0)\n",
      "Step 68: RGB(91, 255, 0)\n",
      "Step 69: RGB(96, 255, 0)\n",
      "Step 70: RGB(102, 255, 0)\n",
      "Step 71: RGB(107, 255, 0)\n",
      "Step 72: RGB(112, 255, 0)\n",
      "Step 73: RGB(117, 255, 0)\n",
      "Step 74: RGB(122, 255, 0)\n",
      "Step 75: RGB(127, 255, 0)\n",
      "Step 76: RGB(132, 255, 0)\n",
      "Step 77: RGB(137, 255, 0)\n",
      "Step 78: RGB(142, 255, 0)\n",
      "Step 79: RGB(147, 255, 0)\n",
      "Step 80: RGB(153, 255, 0)\n",
      "Step 81: RGB(158, 255, 0)\n",
      "Step 82: RGB(163, 255, 0)\n",
      "Step 83: RGB(168, 255, 0)\n",
      "Step 84: RGB(173, 255, 0)\n",
      "Step 85: RGB(178, 255, 0)\n",
      "Step 86: RGB(183, 255, 0)\n",
      "Step 87: RGB(188, 255, 0)\n",
      "Step 88: RGB(193, 255, 0)\n",
      "Step 89: RGB(198, 255, 0)\n",
      "Step 90: RGB(204, 255, 0)\n",
      "Step 91: RGB(209, 255, 0)\n",
      "Step 92: RGB(214, 255, 0)\n",
      "Step 93: RGB(219, 255, 0)\n",
      "Step 94: RGB(224, 255, 0)\n",
      "Step 95: RGB(229, 255, 0)\n",
      "Step 96: RGB(234, 255, 0)\n",
      "Step 97: RGB(239, 255, 0)\n",
      "Step 98: RGB(244, 255, 0)\n",
      "Step 99: RGB(249, 255, 0)\n",
      "Step 100: RGB(255, 255, 0)\n"
     ]
    }
   ],
   "source": [
    "# Define RGB values for colors\n",
    "blue = (0, 0, 255)\n",
    "green = (0, 255, 0)\n",
    "yellow = (255, 255, 0)\n",
    "\n",
    "# Create a color gradient pattern\n",
    "color_pattern = []\n",
    "for i in range(101):  # 100 steps for smooth transition\n",
    "    if i <= 50:\n",
    "        # Transition from blue to green\n",
    "        r = blue[0] + int((green[0] - blue[0]) * i / 50)\n",
    "        g = blue[1] + int((green[1] - blue[1]) * i / 50)\n",
    "        b = blue[2] + int((green[2] - blue[2]) * i / 50)\n",
    "    else:\n",
    "        # Transition from green to yellow\n",
    "        r = green[0] + int((yellow[0] - green[0]) * (i - 50) / 50)\n",
    "        g = green[1] + int((yellow[1] - green[1]) * (i - 50) / 50)\n",
    "        b = green[2] + int((yellow[2] - green[2]) * (i - 50) / 50)\n",
    "    color_pattern.append((r, g, b))\n",
    "\n",
    "# Print the custom color pattern\n",
    "for idx, color in enumerate(color_pattern):\n",
    "    print(f\"Step {idx}: RGB{color}\")"
   ]
  },
  {
   "cell_type": "markdown",
   "metadata": {},
   "source": [
    "## Q50: Reasonable Time Algorithms (1D, Big O)\n",
    "### as a popcorn hack (coding challenge), scale list of size by factor of 10 and measure the times\n",
    "### as a 2nd hack, create a slow algorithm and measure its time, which are considered slow algorithms... \n",
    "###   O(n^3) which is three nested loops \n",
    "###   O(2^n) which is a recursive algorithm with two recursive calls"
   ]
  },
  {
   "cell_type": "code",
   "execution_count": 7,
   "metadata": {},
   "outputs": [
    {
     "name": "stdout",
     "output_type": "stream",
     "text": [
      "Scaled List: [1, 2, 3, 4, 5, 1, 2, 3, 4, 5, 1, 2, 3, 4, 5, 1, 2, 3, 4, 5, 1, 2, 3, 4, 5, 1, 2, 3, 4, 5, 1, 2, 3, 4, 5, 1, 2, 3, 4, 5, 1, 2, 3, 4, 5, 1, 2, 3, 4, 5]\n",
      "Time taken to scale list: 4.315376281738281e-05 seconds\n"
     ]
    }
   ],
   "source": [
    "# as a popcorn hack (coding challenge), scale list of size by factor of 10 and measure the times\n",
    "\n",
    "import time\n",
    "\n",
    "# Function to scale a list by a factor of 10\n",
    "def scale_list(lst, factor=10):\n",
    "    scaled_list = lst * factor\n",
    "    return scaled_list\n",
    "\n",
    "# Create a sample list\n",
    "sample_list = [1, 2, 3, 4, 5]\n",
    "\n",
    "# Measure the time taken to scale the list\n",
    "start_time = time.time()\n",
    "scaled_list = scale_list(sample_list)\n",
    "end_time = time.time()\n",
    "\n",
    "print(\"Scaled List:\", scaled_list)\n",
    "print(\"Time taken to scale list:\", end_time - start_time, \"seconds\")"
   ]
  },
  {
   "cell_type": "code",
   "execution_count": 6,
   "metadata": {},
   "outputs": [
    {
     "name": "stdout",
     "output_type": "stream",
     "text": [
      "Result (O(n^3) algorithm): 1000\n",
      "Time taken (O(n^3) algorithm): 0.0002448558807373047 seconds\n",
      "Result (O(2^n) algorithm): 55\n",
      "Time taken (O(2^n) algorithm): 0.00018644332885742188 seconds\n"
     ]
    }
   ],
   "source": [
    "# as a 2nd hack, create a slow algorithm and measure its time, which are considered slow algorithms... \n",
    "#   O(n^3) which is three nested loops \n",
    "#   O(2^n) which is a recursive algorithm with two recursive calls\n",
    "\n",
    "import time\n",
    "\n",
    "# Slow algorithm with O(n^3) complexity\n",
    "def slow_algorithm_n3(n):\n",
    "    result = 0\n",
    "    for i in range(n):\n",
    "        for j in range(n):\n",
    "            for k in range(n):\n",
    "                result += 1\n",
    "    return result\n",
    "\n",
    "# Slow algorithm with O(2^n) complexity\n",
    "def slow_algorithm_2n(n):\n",
    "    if n <= 1:\n",
    "        return n\n",
    "    else:\n",
    "        return slow_algorithm_2n(n-1) + slow_algorithm_2n(n-2)\n",
    "\n",
    "# Measure time for O(n^3) algorithm\n",
    "start_time = time.time()\n",
    "result_n3 = slow_algorithm_n3(10)\n",
    "end_time = time.time()\n",
    "print(\"Result (O(n^3) algorithm):\", result_n3)\n",
    "print(\"Time taken (O(n^3) algorithm):\", end_time - start_time, \"seconds\")\n",
    "\n",
    "# Measure time for O(2^n) algorithm\n",
    "start_time = time.time()\n",
    "result_2n = slow_algorithm_2n(10)\n",
    "end_time = time.time()\n",
    "print(\"Result (O(2^n) algorithm):\", result_2n)\n",
    "print(\"Time taken (O(2^n) algorithm):\", end_time - start_time, \"seconds\")"
   ]
  },
  {
   "cell_type": "markdown",
   "metadata": {},
   "source": [
    "## Q56: Compare Execution Times of Tow Version (1D, analysis)\n",
    "### as a popcorn hack, measure the time to calulate fibonacci sequence at small and large numbers"
   ]
  },
  {
   "cell_type": "code",
   "execution_count": 5,
   "metadata": {},
   "outputs": [
    {
     "name": "stdout",
     "output_type": "stream",
     "text": [
      "Result (small input): 55\n",
      "Time taken (recursive approach, small input): 0.0002353191375732422 seconds\n",
      "Result (large input): 832040\n",
      "Time taken (recursive approach, large input): 0.4174165725708008 seconds\n"
     ]
    }
   ],
   "source": [
    "import time\n",
    "\n",
    "# Slow recursive approach for Fibonacci sequence\n",
    "def fibonacci_recursive(n):\n",
    "    if n <= 1:\n",
    "        return n\n",
    "    else:\n",
    "        return fibonacci_recursive(n-1) + fibonacci_recursive(n-2)\n",
    "\n",
    "# Measure time for small input\n",
    "start_time = time.time()\n",
    "result_small = fibonacci_recursive(10)  # Small input\n",
    "end_time = time.time()\n",
    "print(\"Result (small input):\", result_small)\n",
    "print(\"Time taken (recursive approach, small input):\", end_time - start_time, \"seconds\")\n",
    "\n",
    "# Measure time for large input\n",
    "start_time = time.time()\n",
    "result_large = fibonacci_recursive(30)  # Large input\n",
    "end_time = time.time()\n",
    "print(\"Result (large input):\", result_large)\n",
    "print(\"Time taken (recursive approach, large input):\", end_time - start_time, \"seconds\")"
   ]
  },
  {
   "cell_type": "markdown",
   "metadata": {},
   "source": [
    "## Q64: Error with Multiplication Using Repeated Addition (4C, algorithms and programs)\n",
    "### as a popcorn hack (coding challenge), fix the multiply function to work with negative numbers"
   ]
  },
  {
   "cell_type": "code",
   "execution_count": 4,
   "metadata": {},
   "outputs": [
    {
     "name": "stdout",
     "output_type": "stream",
     "text": [
      "10\n",
      "-10\n",
      "10\n",
      "-10\n"
     ]
    }
   ],
   "source": [
    "def multiply(x, y):\n",
    "    if y == 0:\n",
    "        return 0\n",
    "\n",
    "    result = 0\n",
    "    sign = 1 if (x >= 0 and y >= 0) or (x < 0 and y < 0) else -1\n",
    "    y = abs(y)\n",
    "\n",
    "    while y > 0:\n",
    "        result += x\n",
    "        y -= 1\n",
    "\n",
    "    return result if sign == 1 else -result\n",
    "\n",
    "# Test cases\n",
    "print(multiply(2, 5))   # Expected output: 10\n",
    "print(multiply(2, -5))  # Expected output: -10\n",
    "print(multiply(-2, 5))  # Expected output: 10\n",
    "print(multiply(-2, -5)) # Expected output: -10"
   ]
  },
  {
   "cell_type": "markdown",
   "metadata": {},
   "source": [
    "## Q65: Call to Concat and Substring (4B, string operations)\n",
    "### as a popcorn hack (binary challenge), create string and concatenation options for A, B, C"
   ]
  },
  {
   "cell_type": "code",
   "execution_count": 1,
   "metadata": {},
   "outputs": [
    {
     "name": "stdout",
     "output_type": "stream",
     "text": [
      "lopejacka\n"
     ]
    }
   ],
   "source": [
    "## Option A\n",
    "\n",
    "# Extract the substring \"antelope\" from position 5 with length 4\n",
    "animal = \"antelope\"[4:8]\n",
    "\n",
    "# Concatenate \"jackalope\" with \"antelope\"\n",
    "animal += \"jackalope\"[0:4] + \"a\"\n",
    "\n",
    "print(animal)  # Outputs: lopejacka"
   ]
  },
  {
   "cell_type": "code",
   "execution_count": 2,
   "metadata": {},
   "outputs": [
    {
     "name": "stdout",
     "output_type": "stream",
     "text": [
      "lopeajack\n"
     ]
    }
   ],
   "source": [
    "## Option B\n",
    "\n",
    "# Extract the substring \"antelope\" from position 5 with length 4\n",
    "animal = \"antelope\"[4:8]\n",
    "\n",
    "# Concatenate \"jackalope\" with \"antelope\"\n",
    "animal += \"a\" + \"jackalope\"[0:4]\n",
    "\n",
    "print(animal)  # Outputs: lopeajack"
   ]
  },
  {
   "cell_type": "code",
   "execution_count": 3,
   "metadata": {},
   "outputs": [
    {
     "name": "stdout",
     "output_type": "stream",
     "text": [
      "jacka\n"
     ]
    }
   ],
   "source": [
    "## Option C\n",
    "\n",
    "# Extract the substring \"jack\" from \"jackrabbit\"\n",
    "animal = \"jackrabbit\"[0:4]\n",
    "\n",
    "# Concatenate \"jackalope\" with \"jack\"\n",
    "animal += \"a\"\n",
    "\n",
    "print(animal)  # Outputs: jacka"
   ]
  }
 ],
 "metadata": {
  "kernelspec": {
   "display_name": "Python 3",
   "language": "python",
   "name": "python3"
  },
  "language_info": {
   "codemirror_mode": {
    "name": "ipython",
    "version": 3
   },
   "file_extension": ".py",
   "mimetype": "text/x-python",
   "name": "python",
   "nbconvert_exporter": "python",
   "pygments_lexer": "ipython3",
   "version": "3.10.12"
  },
  "orig_nbformat": 4
 },
 "nbformat": 4,
 "nbformat_minor": 2
}
