{
 "cells": [
  {
   "cell_type": "markdown",
   "metadata": {},
   "source": [
    "---\n",
    "toc: true\n",
    "comments: true\n",
    "layout: post\n",
    "title: 2021 CollegeBoard Practice MC Corrections\n",
    "courses: { compsci: {week: 20} }\n",
    "type: hacks\n",
    "---"
   ]
  },
  {
   "cell_type": "markdown",
   "metadata": {},
   "source": [
    "# 2021 CollegeBoard Practice MC Corrections\n",
    "\n",
    "### Overall score: 64/70"
   ]
  },
  {
   "cell_type": "markdown",
   "metadata": {},
   "source": [
    "<mark>Question 9: Digital representation of audio signal</mark>\n",
    "- <b>Which of the following best explains how an analog audio signal is typically represented by a computer?</b>\n",
    "- Answer I put: An analog audio signal is measured as a sequence of operations that describe how the sound can be reproduced. The operations are represented at the lowest level as programming instructions.\n",
    "- Correct Answer: An analog audio signal is measured at regular intervals. Each measurement is stored as a sample, which is represented at the lowest level as a sequence of bits.\n",
    "- Explanation: While some programming languages can be used to manipulate audio data, this is not how audio data are represented digitally. At the lowest level, all digital data are represented as sequences of bits. Analog signals are sampled digitally at discrete intervals over time. These samples, like all digital data, are represented at the lowest level as a sequence of bits."
   ]
  },
  {
   "cell_type": "markdown",
   "metadata": {},
   "source": [
    "<mark>Question 24: Lossy compression scenario</mark>\n",
    "- <b>In which of the following situations would it be most appropriate to choose lossy compression over lossless compression?</b>\n",
    "- Answer I put: Storing a video file on an external device in order to preserve the highest possible video quality\n",
    "- Correct Answer: Storing music files on a smartphone in order to maximize the number of songs that can be stored\n",
    "- Explanation:  In situations where quality is maximally important, lossless compression algorithms are typically chosen. In situations where minimizing data size or transmission time is maximally important, lossy compression algorithms are typically chosen."
   ]
  },
  {
   "cell_type": "markdown",
   "metadata": {},
   "source": [
    "<mark>Question 33: Efficiency of driving route algorithms</mark>\n",
    "- A company delivers packages by truck and would like to minimize the length of the route that each driver must travel in order to reach delivery locations. The company is considering two different algorithms for determining delivery routes.\n",
    "\n",
    "- Algorithm I:\n",
    "Generate all possible routes, compute their lengths, and then select the shortest possible route. This algorithm does not run in reasonable time.\n",
    "- Algorithm II:\n",
    "Starting from an arbitrary delivery location, find the nearest unvisited delivery location. Continue creating the route by selecting the nearest unvisited location until all locations have been visited. This algorithm does not guarantee the shortest possible route and runs in time proportional to n squared.\n",
    "\n",
    "- <b>Which of the following best categorizes algorithm II?</b>\n",
    "- Answer I put: Algorithm II provides no improvement over algorithm I because neither algorithm runs in reasonable time.\n",
    "- Correct Answer: Algorithm II uses a heuristic approach to provide an approximate solution in reasonable time.\n",
    "- Explanation: Heuristic means proceeding to a solution by trial and error or by rules that are only loosely defined. Algorithm II runs in time proportional to n squared, which is considered reasonable time because n squared is a polynomial. Algorithm II runs in time proportional to n squared, which is considered reasonable time because n squared is a polynomial. This is considered a heuristic approach because it finds an approximate solution in reasonable time when the technique that finds an exact solution (algorithm I) does not run in reasonable time."
   ]
  },
  {
   "cell_type": "markdown",
   "metadata": {},
   "source": [
    "<mark>Question 43: Keylogging example</mark>\n",
    "- <b>Which of the following best exemplifies the use of keylogging to gain unauthorized access to a computer system?</b>\n",
    "- Answer I put: A user logs into an unsecure Web site. Someone else is able to view unencrypted log-in information as it is transmitted over the Internet. The user has the same username and password for multiple accounts, so the user’s log-in information for multiple systems may be compromised.\n",
    "- Correct Answer: A user unintentionally installs a program on their computer that records all user input and forwards it to another computer. A few weeks later, someone else is able to access the user’s computer using the recorded data.\n",
    "- Explanation: Keylogging is the use of a program to record every keystroke made by a computer to gain fraudulent access to passwords and other confidential information."
   ]
  },
  {
   "cell_type": "markdown",
   "metadata": {},
   "source": [
    "<mark>Question 55: Move element from end of list to beginning</mark>\n",
    "- A code segment is intended to transform the list utensils so that the last element of the list is moved to the beginning of the list.\n",
    "\n",
    "- For example, if utensils initially contains  [\"fork\", \"spoon\", \"tongs\", \"spatula\", \"whisk\"], it should contain [\"whisk\", \"fork\", \"spoon\", \"tongs\", \"spatula\"] after executing the code segment.\n",
    "\n",
    "- <b>Which of the following code segments transforms the list as intended?</b>\n",
    "- Answer I put: ![]({{ site.baseurl }}/images/selected.png \"Selected Answer\")\n",
    "- Correct Answer: ![]({{ site.baseurl }}/images/correct.png \"Correct Answer\")\n",
    "- Explanation: This code segment assigns the value of the last element of the list to the variable temp, then removes the last element of the list, then inserts temp as the first element of the list."
   ]
  },
  {
   "cell_type": "markdown",
   "metadata": {},
   "source": [
    "<mark>Question 64: Error in ageGroup procedure</mark>\n",
    "- In the following procedure, the parameter age represents a person’s age. The procedure is intended to return the name of the age group associated with age. People who are under 18 are considered minors, people who are 65 and older are considered senior citizens, and all other people are considered adults. The procedure does not work as intended.\n",
    "- ![]({{ site.baseurl }}/images/q64.png \"Question 64\")\n",
    "- Removing which two lines of code will cause the procedure to work as intended?\n",
    "- Answer I put: A - Line 3, C - Line 10\n",
    "- Correct Answer: B - Line 8, C - Line 10\n",
    "- Explanation: Line 8 should be removed. This return statement causes execution of the procedure to end early. As a result, if age is less than 18, result will never be assigned the value \"minor\". Line 10 should be removed. This statement causes result to be assigned the value \"adult\", even if it should have been assigned the value \"senior citizen\"."
   ]
  }
 ],
 "metadata": {
  "language_info": {
   "name": "python"
  },
  "orig_nbformat": 4
 },
 "nbformat": 4,
 "nbformat_minor": 2
}
